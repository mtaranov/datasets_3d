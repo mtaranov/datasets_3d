{
 "cells": [
  {
   "cell_type": "code",
   "execution_count": 1,
   "metadata": {
    "collapsed": false
   },
   "outputs": [],
   "source": [
    "%matplotlib inline\n",
    "%load_ext autoreload\n",
    "%autoreload 2\n",
    "\n",
    "import math\n",
    "import gzip\n",
    "import numpy as np\n",
    "import matplotlib.pyplot as plt\n",
    "import networkx as nx\n",
    "#from utils_atac import BuildMatrix, printMatrix, binarize, get_matrix, get_nodeDegree_ForEachNode, get_NodeDegree, get_confidentLinks\n",
    "#from bed_manipulate import bed_intersection, bed_w_NoIntersection, bed_closest"
   ]
  },
  {
   "cell_type": "code",
   "execution_count": 3,
   "metadata": {
    "collapsed": false
   },
   "outputs": [],
   "source": [
    "DATADIR='/users/mtaranov/datasets_3d/notebooks'\n",
    "DATADIR='/mnt/lab_data/kundaje/mtaranov/ChicagoCalls/'\n",
    "InteractionsFilePP=DATADIR+'D0_D2D8_merge_BaitToBait_intra.bed.gz'\n",
    "InteractionsFilePE=DATADIR+'D0_D2D8_merge_BaitToE_intra.bed.gz'"
   ]
  },
  {
   "cell_type": "code",
   "execution_count": 95,
   "metadata": {
    "collapsed": false
   },
   "outputs": [],
   "source": [
    "def get_pos_neg_at_dist(InteractionsFiles, thres_min, thres_max, bin_size, score_thres):\n",
    "    bins = [i/bin_size for i in range(thres_min, thres_max, bin_size)]\n",
    "    pos={}\n",
    "    neg={}\n",
    "    for bin in bins:\n",
    "        pos.update({int(bin):[]})\n",
    "        neg.update({int(bin):[]})\n",
    "    for InteractionsFileCaptureC in InteractionsFiles:\n",
    "        for line in gzip.open(InteractionsFileCaptureC,'r'):\n",
    "            words=line.rstrip().split()\n",
    "            chr1=words[0]\n",
    "            start1=float(words[1])\n",
    "            end1=float(words[2])\n",
    "            chr2=words[3]\n",
    "            start2=float(words[4])\n",
    "            end2=float(words[5])\n",
    "            score=float(words[6])\n",
    "            d=abs((end2+start2)/2-(end1+start1)/2)\n",
    "            if thres_min < d <= thres_max:\n",
    "                bin = int(math.floor(d/bin_size))\n",
    "                if score == 0:\n",
    "                    neg[bin].append(score)\n",
    "                else:\n",
    "                    if score >= score_thres:\n",
    "                        pos[bin].append(score)\n",
    "    return pos, neg"
   ]
  },
  {
   "cell_type": "code",
   "execution_count": 97,
   "metadata": {
    "collapsed": true
   },
   "outputs": [],
   "source": [
    "def get_pos_neg_at_dist(InteractionsFiles, thres_min, thres_max, bin_size, score_thres):\n",
    "    bins = [i/bin_size for i in range(thres_min, thres_max, bin_size)]\n",
    "    pos={}\n",
    "    neg={}\n",
    "    unlbd={}\n",
    "    for bin in bins:\n",
    "        pos.update({int(bin):[]})\n",
    "        neg.update({int(bin):[]})\n",
    "        unlbd.update({int(bin):[]})\n",
    "    for InteractionsFileCaptureC in InteractionsFiles:\n",
    "        for line in gzip.open(InteractionsFileCaptureC,'r'):\n",
    "            words=line.rstrip().split()\n",
    "            chr1=words[0]\n",
    "            start1=float(words[1])\n",
    "            end1=float(words[2])\n",
    "            chr2=words[3]\n",
    "            start2=float(words[4])\n",
    "            end2=float(words[5])\n",
    "            score=float(words[6])\n",
    "            d=abs((end2+start2)/2-(end1+start1)/2)\n",
    "            if thres_min < d <= thres_max:\n",
    "                bin = int(math.floor(d/bin_size))\n",
    "                if score == 0:\n",
    "                    neg[bin].append(score)\n",
    "                else:\n",
    "                    if score >= score_thres:\n",
    "                        pos[bin].append(score)\n",
    "                    else:\n",
    "                        unlbd[bin].append(score)\n",
    "    return pos, neg, unlbd"
   ]
  },
  {
   "cell_type": "markdown",
   "metadata": {},
   "source": [
    "# PP"
   ]
  },
  {
   "cell_type": "code",
   "execution_count": 106,
   "metadata": {
    "collapsed": false
   },
   "outputs": [],
   "source": [
    "thres_min, thres_max, bin_size, score_thres = 10000, 2000000, 50000, 10\n",
    "pos, neg, unlbd = get_pos_neg_at_dist([InteractionsFilePP], thres_min, thres_max, bin_size, score_thres)"
   ]
  },
  {
   "cell_type": "code",
   "execution_count": 107,
   "metadata": {
    "collapsed": false,
    "scrolled": true
   },
   "outputs": [
    {
     "data": {
      "image/png": "[encoded data removed]",
      "text/plain": [
       "<matplotlib.figure.Figure at 0x7f612c00c0d0>"
      ]
     },
     "metadata": {},
     "output_type": "display_data"
    }
   ],
   "source": [
    "import matplotlib.ticker as ticker\n",
    "plt.bar(pos.keys(), [len(i) for i in pos.values()], alpha=0.7, color='r',  label='pos')\n",
    "plt.bar(pos.keys(), [len(i) for i in neg.values()], alpha=0.25, color='g',  label='neg')\n",
    "plt.bar(pos.keys(), [len(i) for i in unlbd.values()], alpha=0.05, color='b',  label='unlabeled')\n",
    "plt.xlabel('Genomic distance, Mb')\n",
    "plt.ylabel('Number of Contacts')\n",
    "plt.legend(loc='upper right')\n",
    "plt.title('PP, 10kb-2Mb')\n",
    "#plt.xticks(x, labels, rotation='vertical')\n",
    "plt.xticks([i-1 for i in pos.keys()[0::10]], [float(i)/20 for i in pos.keys()[0::10]])\n",
    "plt.show()"
   ]
  },
  {
   "cell_type": "code",
   "execution_count": 108,
   "metadata": {
    "collapsed": false
   },
   "outputs": [
    {
     "name": "stdout",
     "output_type": "stream",
     "text": [
      "pos =  4677  neg =  455312  unlbd =  298256\n"
     ]
    }
   ],
   "source": [
    "print \"pos = \", sum([len(i) for i in pos.values()]), \" neg = \", sum([len(i) for i in neg.values()]), \" unlbd = \", sum([len(i) for i in unlbd.values()])"
   ]
  },
  {
   "cell_type": "markdown",
   "metadata": {},
   "source": [
    "# PE"
   ]
  },
  {
   "cell_type": "code",
   "execution_count": 109,
   "metadata": {
    "collapsed": true
   },
   "outputs": [],
   "source": [
    "thres_min, thres_max, bin_size, score_thres = 10000, 2000000, 50000, 10\n",
    "pos, neg, unlbd = get_pos_neg_at_dist([InteractionsFilePE], thres_min, thres_max, bin_size, score_thres)"
   ]
  },
  {
   "cell_type": "code",
   "execution_count": 110,
   "metadata": {
    "collapsed": false
   },
   "outputs": [
    {
     "data": {
      "image/png": "[encoded data removed]",
      "text/plain": [
       "<matplotlib.figure.Figure at 0x7f612c00c850>"
      ]
     },
     "metadata": {},
     "output_type": "display_data"
    }
   ],
   "source": [
    "import matplotlib.ticker as ticker\n",
    "plt.bar(pos.keys(), [len(i) for i in pos.values()], alpha=0.7, color='r',  label='pos')\n",
    "plt.bar(pos.keys(), [len(i) for i in neg.values()], alpha=0.25, color='g',  label='neg')\n",
    "plt.bar(pos.keys(), [len(i) for i in unlbd.values()], alpha=0.05, color='b',  label='unlabeled')\n",
    "plt.xlabel('Genomic distance, Mb')\n",
    "plt.ylabel('Number of Contacts')\n",
    "plt.legend(loc='upper right')\n",
    "plt.title('PE, 10kb-2Mb')\n",
    "#plt.xticks(x, labels, rotation='vertical')\n",
    "plt.xticks([i-1 for i in pos.keys()[0::10]], [float(i)/20 for i in pos.keys()[0::10]])\n",
    "plt.show()"
   ]
  },
  {
   "cell_type": "code",
   "execution_count": 111,
   "metadata": {
    "collapsed": false
   },
   "outputs": [
    {
     "name": "stdout",
     "output_type": "stream",
     "text": [
      "pos =  5432  neg =  1260308  unlbd =  812731\n"
     ]
    }
   ],
   "source": [
    "print \"pos = \", sum([len(i) for i in pos.values()]), \" neg = \", sum([len(i) for i in neg.values()]), \" unlbd = \", sum([len(i) for i in unlbd.values()])"
   ]
  },
  {
   "cell_type": "markdown",
   "metadata": {},
   "source": [
    "# PP+PE"
   ]
  },
  {
   "cell_type": "code",
   "execution_count": 112,
   "metadata": {
    "collapsed": true
   },
   "outputs": [],
   "source": [
    "thres_min, thres_max, bin_size, score_thres = 10000, 2000000, 50000, 10\n",
    "pos, neg, unlbd = get_pos_neg_at_dist([InteractionsFilePP, InteractionsFilePE], thres_min, thres_max, bin_size, score_thres)"
   ]
  },
  {
   "cell_type": "code",
   "execution_count": 113,
   "metadata": {
    "collapsed": false
   },
   "outputs": [
    {
     "data": {
      "image/png": "[encoded data removed]",
      "text/plain": [
       "<matplotlib.figure.Figure at 0x7f612cc44790>"
      ]
     },
     "metadata": {},
     "output_type": "display_data"
    }
   ],
   "source": [
    "import matplotlib.ticker as ticker\n",
    "plt.bar(pos.keys(), [len(i) for i in pos.values()], alpha=0.7, color='r',  label='pos')\n",
    "plt.bar(pos.keys(), [len(i) for i in neg.values()], alpha=0.25, color='g',  label='neg')\n",
    "plt.bar(pos.keys(), [len(i) for i in unlbd.values()], alpha=0.05, color='b',  label='unlabeled')\n",
    "plt.xlabel('Genomic distance, Mb')\n",
    "plt.ylabel('Number of Contacts')\n",
    "plt.legend(loc='upper right')\n",
    "plt.title('PP+PE, 10kb-2Mb')\n",
    "#plt.xticks(x, labels, rotation='vertical')\n",
    "plt.xticks([i-1 for i in pos.keys()[0::10]], [float(i)/20 for i in pos.keys()[0::10]])\n",
    "plt.show()"
   ]
  },
  {
   "cell_type": "code",
   "execution_count": 114,
   "metadata": {
    "collapsed": false
   },
   "outputs": [
    {
     "name": "stdout",
     "output_type": "stream",
     "text": [
      "pos =  10109  neg =  1715620  unlbd =  1110987\n"
     ]
    }
   ],
   "source": [
    "print \"pos = \", sum([len(i) for i in pos.values()]), \" neg = \", sum([len(i) for i in neg.values()]), \" unlbd = \", sum([len(i) for i in unlbd.values()])"
   ]
  },
  {
   "cell_type": "code",
   "execution_count": null,
   "metadata": {
    "collapsed": true
   },
   "outputs": [],
   "source": []
  }
 ],
 "metadata": {
  "anaconda-cloud": {},
  "kernelspec": {
   "display_name": "Python [default]",
   "language": "python",
   "name": "python2"
  },
  "language_info": {
   "codemirror_mode": {
    "name": "ipython",
    "version": 2
   },
   "file_extension": ".py",
   "mimetype": "text/x-python",
   "name": "python",
   "nbconvert_exporter": "python",
   "pygments_lexer": "ipython2",
   "version": "2.7.12"
  }
 },
 "nbformat": 4,
 "nbformat_minor": 0
}
